{
 "cells": [
  {
   "cell_type": "markdown",
   "id": "6f8b4213-ab24-4420-b3a7-cd9cf2067f83",
   "metadata": {},
   "source": [
    "# For websites \n"
   ]
  },
  {
   "cell_type": "code",
   "execution_count": null,
   "id": "9282d7d4-aa5d-482c-b31e-6ff9a83c9f70",
   "metadata": {},
   "outputs": [],
   "source": [
    "import pandas as pd"
   ]
  },
  {
   "cell_type": "code",
   "execution_count": null,
   "id": "a35f6219-ed59-4b0a-98eb-bf4ede6b6efb",
   "metadata": {},
   "outputs": [],
   "source": [
    "# v represents a variable so feel free to change that to a variable of your choice\n",
    "v = pd.read_html(\"url\")"
   ]
  },
  {
   "cell_type": "code",
   "execution_count": null,
   "id": "859226b6-458c-4749-81f5-662aeaabbff9",
   "metadata": {},
   "outputs": [],
   "source": [
    "len(v) # to get total number of tables in the site\n"
   ]
  },
  {
   "cell_type": "code",
   "execution_count": null,
   "id": "8bc3cd0d-fb9d-4e3e-bc91-c2ec3f4be686",
   "metadata": {},
   "outputs": [],
   "source": [
    "v[1] # to get access anytable in the site. 1 will give the second table in the site"
   ]
  },
  {
   "cell_type": "markdown",
   "id": "09845a4b-56e3-4aa0-bea0-c52f7f1768fc",
   "metadata": {},
   "source": [
    "# For Csv files online directly"
   ]
  },
  {
   "cell_type": "code",
   "execution_count": null,
   "id": "630b9176-f0dc-45ae-8881-a1d0ddde230f",
   "metadata": {},
   "outputs": [],
   "source": [
    "import pandas as pd"
   ]
  },
  {
   "cell_type": "code",
   "execution_count": null,
   "id": "81f10699-4c05-43a2-8ecb-92e204922e36",
   "metadata": {},
   "outputs": [],
   "source": [
    " #read the csv file from website\n",
    "v = pd.read_csv('url for the csv file')"
   ]
  },
  {
   "cell_type": "code",
   "execution_count": null,
   "id": "0bc900ca-f159-4914-b48d-968aa1114395",
   "metadata": {},
   "outputs": [],
   "source": [
    "#show the data frame, just type out the variable and run\n",
    "v"
   ]
  },
  {
   "cell_type": "code",
   "execution_count": null,
   "id": "65b29e51-ff51-44fe-a0d7-11c50422a1fd",
   "metadata": {},
   "outputs": [],
   "source": [
    "#rename columns\n",
    "v.rename(columns={'data from table': 'its new value',\n",
    "         'data from the table': 'new value'}, inplace = True) # add as many values as you need to your dictionary"
   ]
  },
  {
   "cell_type": "code",
   "execution_count": null,
   "id": "8e61f166-e5e5-409e-9145-c4cb70fdafe9",
   "metadata": {},
   "outputs": [],
   "source": [
    "v # type out the variable and run to see your work"
   ]
  },
  {
   "cell_type": "markdown",
   "id": "b35a9dd1-5e6f-4429-986d-11c469ca70fc",
   "metadata": {},
   "source": [
    "# Extracting tables from PDfs\n",
    "## install tk ghostscript camelot-py"
   ]
  },
  {
   "cell_type": "code",
   "execution_count": null,
   "id": "8967e2ca-3cef-46c1-9f16-7aa642944913",
   "metadata": {},
   "outputs": [],
   "source": [
    "import camelot"
   ]
  },
  {
   "cell_type": "code",
   "execution_count": null,
   "id": "c5ece6fc-6302-4128-b696-7fd754c058d6",
   "metadata": {},
   "outputs": [],
   "source": [
    "#read pdf\n",
    "#v representing a sample pdf file , pages indicating what page you want to extract the table from\n",
    "tables = camelot.read_pdf('v.pdf', pages='1') "
   ]
  },
  {
   "cell_type": "code",
   "execution_count": null,
   "id": "d4aaab66-eb13-47fc-ad72-7e0d67c64a02",
   "metadata": {},
   "outputs": [],
   "source": [
    "# getting number of tables\n",
    "print(tables)"
   ]
  },
  {
   "cell_type": "code",
   "execution_count": null,
   "id": "36b4aee6-55c4-46b8-af85-6854dad28feb",
   "metadata": {},
   "outputs": [],
   "source": [
    "#extracting the table from the pdf, f = format you want to store it\n",
    "tables.export(\"v.csv\", f = 'csv', compress = True )"
   ]
  },
  {
   "cell_type": "code",
   "execution_count": null,
   "id": "6329858d-6b40-47c9-a05f-82771be62424",
   "metadata": {},
   "outputs": [],
   "source": [
    "#choose the specific table or tables you want to extract\n",
    "#[0] represents the first table in the file.\n",
    "tables[0].to_csv('v.csv')"
   ]
  },
  {
   "cell_type": "code",
   "execution_count": null,
   "id": "2ba0a8bf-ec59-4d5b-9a33-2a01c4bc1cdf",
   "metadata": {},
   "outputs": [],
   "source": []
  }
 ],
 "metadata": {
  "kernelspec": {
   "display_name": "Python 3 (ipykernel)",
   "language": "python",
   "name": "python3"
  },
  "language_info": {
   "codemirror_mode": {
    "name": "ipython",
    "version": 3
   },
   "file_extension": ".py",
   "mimetype": "text/x-python",
   "name": "python",
   "nbconvert_exporter": "python",
   "pygments_lexer": "ipython3",
   "version": "3.10.11"
  }
 },
 "nbformat": 4,
 "nbformat_minor": 5
}
